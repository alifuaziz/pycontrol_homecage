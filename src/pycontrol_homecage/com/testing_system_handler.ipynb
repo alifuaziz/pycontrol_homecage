{
 "cells": [
  {
   "cell_type": "code",
   "execution_count": 1,
   "metadata": {},
   "outputs": [
    {
     "name": "stdout",
     "output_type": "stream",
     "text": [
      "True\n",
      "C:\\Users\\alifa\\OneDrive - Nexus365\\Documents\\Homecage Software Development\\fork\\pycontrol_homecage\\src\\pycontrol_homecage\\config.json\n",
      "Port: COM1, Description: Communications Port (COM1), HWID: ACPI\\PNP0501\\0\n",
      "Port: COM3, Description: USB Serial Device (COM3), HWID: USB VID:PID=F055:9800 SER=356D36653536 LOCATION=1-11:x.1\n"
     ]
    }
   ],
   "source": [
    "%autoreload 2\n",
    "import system_handler as sh\n",
    "from pyboard import Pyboard\n",
    "# Lists the ports that are connected to the computer\n",
    "import serial.tools.list_ports\n",
    "ports = serial.tools.list_ports.comports()\n",
    "for port in ports:\n",
    "    print(f\"Port: {port.device}, Description: {port.description}, HWID: {port.hwid}\")\n",
    "    "
   ]
  },
  {
   "cell_type": "markdown",
   "metadata": {},
   "source": [
    "For some reason when i load the pycontrol framework onto the pyboard, I can't seem to run commands from the PyBoard class. getting the "
   ]
  },
  {
   "cell_type": "code",
   "execution_count": 2,
   "metadata": {},
   "outputs": [],
   "source": [
    "access_control = sh.Access_control(\n",
    "    serial_port = 'COM3'\n",
    "  # serial_port = 'COM4'\n",
    ")\n",
    "\n",
    "# pyb = Pyboard('COM3')\n",
    "# pyb.exec(\"import os; print(os.listdir('/flash'))\")\n",
    "\n"
   ]
  },
  {
   "cell_type": "code",
   "execution_count": 3,
   "metadata": {},
   "outputs": [
    {
     "name": "stdout",
     "output_type": "stream",
     "text": [
      "\n",
      "Transfering access control framework to pyboard.\n",
      "file_path:C:\\Users\\alifa\\OneDrive - Nexus365\\Documents\\Homecage Software Development\\fork\\pycontrol_homecage\\src\\pycontrol_homecage\\access_control_upy\\access_control_1_0.py target_path:access_control_upy/access_control_1_0.py\n",
      ".\n",
      "file_path:C:\\Users\\alifa\\OneDrive - Nexus365\\Documents\\Homecage Software Development\\fork\\pycontrol_homecage\\src\\pycontrol_homecage\\access_control_upy\\hx711_gpio.py target_path:access_control_upy/hx711_gpio.py\n",
      ".\n",
      "file_path:C:\\Users\\alifa\\OneDrive - Nexus365\\Documents\\Homecage Software Development\\fork\\pycontrol_homecage\\src\\pycontrol_homecage\\access_control_upy\\main_script_for_pyboard.py target_path:access_control_upy/main_script_for_pyboard.py\n",
      ".\n",
      "file_path:C:\\Users\\alifa\\OneDrive - Nexus365\\Documents\\Homecage Software Development\\fork\\pycontrol_homecage\\src\\pycontrol_homecage\\access_control_upy\\pin_classes.py target_path:access_control_upy/pin_classes.py\n",
      ".\n",
      "file_path:C:\\Users\\alifa\\OneDrive - Nexus365\\Documents\\Homecage Software Development\\fork\\pycontrol_homecage\\src\\pycontrol_homecage\\access_control_upy\\uRFID.py target_path:access_control_upy/uRFID.py\n",
      ".OK\n"
     ]
    }
   ],
   "source": [
    "access_control.load_framework()"
   ]
  },
  {
   "cell_type": "code",
   "execution_count": 4,
   "metadata": {},
   "outputs": [
    {
     "ename": "PyboardError",
     "evalue": "could not exec command",
     "output_type": "error",
     "traceback": [
      "\u001b[1;31m---------------------------------------------------------------------------\u001b[0m",
      "\u001b[1;31mPyboardError\u001b[0m                              Traceback (most recent call last)",
      "Cell \u001b[1;32mIn[4], line 1\u001b[0m\n\u001b[1;32m----> 1\u001b[0m \u001b[43maccess_control\u001b[49m\u001b[38;5;241;43m.\u001b[39;49m\u001b[43mexec\u001b[49m\u001b[43m(\u001b[49m\u001b[38;5;124;43m\"\u001b[39;49m\u001b[38;5;124;43mimport os; print(os.listdir(\u001b[39;49m\u001b[38;5;124;43m'\u001b[39;49m\u001b[38;5;124;43m/\u001b[39;49m\u001b[38;5;124;43m'\u001b[39;49m\u001b[38;5;124;43m))\u001b[39;49m\u001b[38;5;124;43m\"\u001b[39;49m\u001b[43m)\u001b[49m\n",
      "File \u001b[1;32m~\\OneDrive - Nexus365\\Documents\\Homecage Software Development\\fork\\pycontrol_homecage\\src\\pycontrol_homecage\\com\\pyboard.py:184\u001b[0m, in \u001b[0;36mPyboard.exec\u001b[1;34m(self, command)\u001b[0m\n\u001b[0;32m    183\u001b[0m \u001b[38;5;28;01mdef\u001b[39;00m \u001b[38;5;21mexec\u001b[39m(\u001b[38;5;28mself\u001b[39m, command):\n\u001b[1;32m--> 184\u001b[0m     ret, ret_err \u001b[38;5;241m=\u001b[39m \u001b[38;5;28;43mself\u001b[39;49m\u001b[38;5;241;43m.\u001b[39;49m\u001b[43mexec_raw\u001b[49m\u001b[43m(\u001b[49m\u001b[43mcommand\u001b[49m\u001b[43m)\u001b[49m\n\u001b[0;32m    185\u001b[0m     \u001b[38;5;28;01mif\u001b[39;00m ret_err:\n\u001b[0;32m    186\u001b[0m         \u001b[38;5;28;01mraise\u001b[39;00m PyboardError(\u001b[38;5;124m'\u001b[39m\u001b[38;5;124mexception\u001b[39m\u001b[38;5;124m'\u001b[39m, ret, ret_err)\n",
      "File \u001b[1;32m~\\OneDrive - Nexus365\\Documents\\Homecage Software Development\\fork\\pycontrol_homecage\\src\\pycontrol_homecage\\com\\pyboard.py:175\u001b[0m, in \u001b[0;36mPyboard.exec_raw\u001b[1;34m(self, command, timeout, data_consumer)\u001b[0m\n\u001b[0;32m    174\u001b[0m \u001b[38;5;28;01mdef\u001b[39;00m \u001b[38;5;21mexec_raw\u001b[39m(\u001b[38;5;28mself\u001b[39m, command, timeout\u001b[38;5;241m=\u001b[39m\u001b[38;5;241m10\u001b[39m, data_consumer\u001b[38;5;241m=\u001b[39m\u001b[38;5;28;01mNone\u001b[39;00m):\n\u001b[1;32m--> 175\u001b[0m     \u001b[38;5;28;43mself\u001b[39;49m\u001b[38;5;241;43m.\u001b[39;49m\u001b[43mexec_raw_no_follow\u001b[49m\u001b[43m(\u001b[49m\u001b[43mcommand\u001b[49m\u001b[43m)\u001b[49m;\n\u001b[0;32m    176\u001b[0m     \u001b[38;5;28;01mreturn\u001b[39;00m \u001b[38;5;28mself\u001b[39m\u001b[38;5;241m.\u001b[39mfollow(timeout, data_consumer)\n",
      "File \u001b[1;32m~\\OneDrive - Nexus365\\Documents\\Homecage Software Development\\fork\\pycontrol_homecage\\src\\pycontrol_homecage\\com\\pyboard.py:172\u001b[0m, in \u001b[0;36mPyboard.exec_raw_no_follow\u001b[1;34m(self, command)\u001b[0m\n\u001b[0;32m    170\u001b[0m data \u001b[38;5;241m=\u001b[39m \u001b[38;5;28mself\u001b[39m\u001b[38;5;241m.\u001b[39mserial\u001b[38;5;241m.\u001b[39mread(\u001b[38;5;241m2\u001b[39m)\n\u001b[0;32m    171\u001b[0m \u001b[38;5;28;01mif\u001b[39;00m data \u001b[38;5;241m!=\u001b[39m \u001b[38;5;124mb\u001b[39m\u001b[38;5;124m'\u001b[39m\u001b[38;5;124mOK\u001b[39m\u001b[38;5;124m'\u001b[39m:\n\u001b[1;32m--> 172\u001b[0m     \u001b[38;5;28;01mraise\u001b[39;00m PyboardError(\u001b[38;5;124m'\u001b[39m\u001b[38;5;124mcould not exec command\u001b[39m\u001b[38;5;124m'\u001b[39m)\n",
      "\u001b[1;31mPyboardError\u001b[0m: could not exec command"
     ]
    }
   ],
   "source": [
    "access_control.exec(\"import os; print(os.listdir('/'))\")"
   ]
  }
 ],
 "metadata": {
  "kernelspec": {
   "display_name": "homecage_fork",
   "language": "python",
   "name": "python3"
  },
  "language_info": {
   "codemirror_mode": {
    "name": "ipython",
    "version": 3
   },
   "file_extension": ".py",
   "mimetype": "text/x-python",
   "name": "python",
   "nbconvert_exporter": "python",
   "pygments_lexer": "ipython3",
   "version": "3.10.15"
  }
 },
 "nbformat": 4,
 "nbformat_minor": 2
}
